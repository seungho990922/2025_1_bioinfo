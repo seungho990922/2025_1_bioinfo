{
 "cells": [
  {
   "cell_type": "code",
   "execution_count": 1,
   "id": "05205d38",
   "metadata": {},
   "outputs": [
    {
     "name": "stdout",
     "output_type": "stream",
     "text": [
      "✅ Saved 20094 negative samples to ../data/processed/negative_windows.csv\n"
     ]
    }
   ],
   "source": [
    "# 🧪 Step 2.5: Negative 샘플 생성\n",
    "import pandas as pd\n",
    "from pyfaidx import Fasta\n",
    "import numpy as np\n",
    "import random\n",
    "import os\n",
    "\n",
    "# 경로 설정\n",
    "FASTA_PATH = \"../data/raw/refMrna.fa\"\n",
    "POSITIVE_CSV = \"../data/processed/positive_windows.csv\"\n",
    "OUTPUT_CSV = \"../data/processed/negative_windows.csv\"\n",
    "\n",
    "# RefSeq 서열 불러오기\n",
    "fasta = Fasta(FASTA_PATH)\n",
    "\n",
    "# Positive 샘플 불러오기\n",
    "positive = pd.read_csv(POSITIVE_CSV)\n",
    "\n",
    "# Positive 좌표 저장 (중복 방지용)\n",
    "positive_coords = set()\n",
    "for _, row in positive.iterrows():\n",
    "    positive_coords.add((row[\"Transcript\"], row[\"Position\"]))\n",
    "\n",
    "# Negative 샘플 생성\n",
    "negatives = []\n",
    "for _, row in positive.iterrows():\n",
    "    tid = row[\"Transcript\"]\n",
    "    if tid not in fasta:\n",
    "        continue\n",
    "\n",
    "    seq = str(fasta[tid][:]).upper().replace(\"T\", \"U\")\n",
    "    length = len(seq)\n",
    "    tries = 0\n",
    "    while tries < 100:\n",
    "        center = random.randint(25, length - 26)\n",
    "        if (tid, center) not in positive_coords:\n",
    "            window = seq[center - 25 : center + 26]\n",
    "            if len(window) == 51 and set(window).issubset({\"A\", \"C\", \"G\", \"U\"}):\n",
    "                negatives.append({\n",
    "                    \"Transcript\": tid,\n",
    "                    \"Position\": center,\n",
    "                    \"sequence\": window,\n",
    "                    \"label\": 0\n",
    "                })\n",
    "                break\n",
    "        tries += 1\n",
    "\n",
    "# 저장\n",
    "neg_df = pd.DataFrame(negatives)\n",
    "os.makedirs(\"../data/processed\", exist_ok=True)\n",
    "neg_df.to_csv(OUTPUT_CSV, index=False)\n",
    "print(f\"✅ Saved {len(neg_df)} negative samples to {OUTPUT_CSV}\")"
   ]
  },
  {
   "cell_type": "markdown",
   "id": "bb520376",
   "metadata": {},
   "source": [
    "## 🧪 Step 2.5: Negative 샘플 생성 (51nt RNA window)\n",
    "\n",
    "이 단계에서는 Positive 샘플과 동일한 transcript 내에서,  \n",
    "CLIP binding되지 않은 위치를 랜덤하게 선택하여 Negative 샘플을 생성합니다.\n",
    "\n",
    "### 📌 주요 처리\n",
    "- binding되지 않은 위치를 100번까지 random sampling\n",
    "- window 내 염기 구성이 A, U, G, C만 포함되도록 제한\n",
    "- Positive와 동일한 형식으로 `sequence`, `Transcript`, `Position`, `label=0` 저장\n",
    "\n",
    "### 💾 출력 파일\n",
    "- `../data/processed/negative_windows.csv`\n",
    "\n",
    "이 데이터는 이후 RNAfold 구조 예측에 사용됩니다."
   ]
  }
 ],
 "metadata": {
  "kernelspec": {
   "display_name": "xb",
   "language": "python",
   "name": "python3"
  },
  "language_info": {
   "codemirror_mode": {
    "name": "ipython",
    "version": 3
   },
   "file_extension": ".py",
   "mimetype": "text/x-python",
   "name": "python",
   "nbconvert_exporter": "python",
   "pygments_lexer": "ipython3",
   "version": "3.7.13"
  }
 },
 "nbformat": 4,
 "nbformat_minor": 5
}
