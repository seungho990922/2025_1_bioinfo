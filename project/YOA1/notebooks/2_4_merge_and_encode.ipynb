{
 "cells": [
  {
   "cell_type": "code",
   "execution_count": 1,
   "id": "00cc8ea4",
   "metadata": {},
   "outputs": [
    {
     "name": "stdout",
     "output_type": "stream",
     "text": [
      "✅ 저장 완료: X_all.npy (shape=(40188, 51, 7)), y_all.npy (shape=(40188,))\n"
     ]
    }
   ],
   "source": [
    "# 🧪 Step 2.7: Positive + Negative 구조 포함 CSV 병합 및 인코딩\n",
    "import pandas as pd\n",
    "import numpy as np\n",
    "import os\n",
    "\n",
    "# 경로 설정\n",
    "POS_PATH = \"../data/processed/positive_structures.csv\"\n",
    "NEG_PATH = \"../data/processed/negative_structures.csv\"\n",
    "X_PATH = \"../data/features/X_all.npy\"\n",
    "Y_PATH = \"../data/features/y_all.npy\"\n",
    "\n",
    "# 데이터 로드\n",
    "pos = pd.read_csv(POS_PATH)\n",
    "neg = pd.read_csv(NEG_PATH)\n",
    "\n",
    "# 병합\n",
    "df = pd.concat([pos, neg], ignore_index=True)\n",
    "df = df.sample(frac=1, random_state=42).reset_index(drop=True)  # 셔플\n",
    "\n",
    "# 인코딩 매핑\n",
    "seq_map = {'A':0, 'C':1, 'G':2, 'U':3}\n",
    "str_map = {'(':0, ')':1, '.':2}\n",
    "\n",
    "def encode(seq, struct):\n",
    "    mat = np.zeros((len(seq), 7))\n",
    "    for i in range(len(seq)):\n",
    "        mat[i, seq_map.get(seq[i], 0)] = 1\n",
    "        mat[i, 4 + str_map.get(struct[i], 2)] = 1\n",
    "    return mat\n",
    "\n",
    "# 전체 인코딩\n",
    "X = np.stack([encode(seq, dot) for seq, dot in zip(df[\"sequence\"], df[\"structure\"])])\n",
    "y = df[\"label\"].values.astype(np.float32)\n",
    "\n",
    "# 저장\n",
    "os.makedirs(\"../data/features\", exist_ok=True)\n",
    "np.save(X_PATH, X)\n",
    "np.save(Y_PATH, y)\n",
    "\n",
    "print(f\"✅ 저장 완료: X_all.npy (shape={X.shape}), y_all.npy (shape={y.shape})\")"
   ]
  },
  {
   "cell_type": "markdown",
   "id": "681bfeb4",
   "metadata": {},
   "source": [
    "## 🧬 Step 2.7: Positive + Negative 통합 및 One-hot Encoding\n",
    "\n",
    "이 단계에서는 구조 정보가 포함된 Positive / Negative CSV 파일을 병합하고,  \n",
    "sequence + structure 정보를 One-hot encoding 하여 `.npy`로 저장합니다.\n",
    "\n",
    "### 📌 인코딩 방식\n",
    "- 서열(A/C/G/U) → 4채널\n",
    "- 구조(dot-bracket) → 3채널 (`(`, `)`, `.`)\n",
    "- 총 7채널로 구성된 `(51, 7)` 텐서\n",
    "\n",
    "### 💾 출력\n",
    "- `X_all.npy`: 모델 입력 텐서\n",
    "- `y_all.npy`: 이진 라벨 벡터"
   ]
  }
 ],
 "metadata": {
  "kernelspec": {
   "display_name": "xb",
   "language": "python",
   "name": "python3"
  },
  "language_info": {
   "codemirror_mode": {
    "name": "ipython",
    "version": 3
   },
   "file_extension": ".py",
   "mimetype": "text/x-python",
   "name": "python",
   "nbconvert_exporter": "python",
   "pygments_lexer": "ipython3",
   "version": "3.7.13"
  }
 },
 "nbformat": 4,
 "nbformat_minor": 5
}
