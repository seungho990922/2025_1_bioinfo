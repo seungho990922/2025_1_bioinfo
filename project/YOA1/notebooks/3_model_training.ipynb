{
 "cells": [
  {
   "cell_type": "markdown",
   "id": "879f27ff",
   "metadata": {},
   "source": [
    "Step 4 : 딥러닝 모델 (CNN) 정의 및 학습 단계\n",
    "\n",
    "목표\n",
    "\n",
    "입력 : X_positive.npy (51,7) , y_positive.npy (1)\n",
    "\n",
    "모델 : CNN 기반 classifier\n",
    "\n",
    "출력 : 학습된 모델(.pt), 검증 성능, ROC/PR 곡선"
   ]
  },
  {
   "cell_type": "code",
   "execution_count": 2,
   "id": "3a4c6261",
   "metadata": {},
   "outputs": [],
   "source": [
    "import numpy as np\n",
    "import torch\n",
    "from torch import nn\n",
    "from torch.utils.data import Dataset, DataLoader\n",
    "from sklearn.model_selection import train_test_split\n",
    "from sklearn.metrics import roc_auc_score\n",
    "import matplotlib.pyplot as plt\n",
    "import os\n",
    "\n",
    "\n",
    "device = torch.device(\"cuda\" if torch.cuda.is_available() else \"cpu\")\n",
    "\n",
    "# 전체 데이터를 불러옴\n",
    "X = np.load(\"../data/features/X_all.npy\")\n",
    "y = np.load(\"../data/features/y_all.npy\")\n",
    "\n",
    "# 먼저 train + temp(val+test)\n",
    "X_train, X_temp, y_train, y_temp = train_test_split(\n",
    "    X, y, test_size=0.3, stratify=y, random_state=42)\n",
    "\n",
    "# 그 다음 temp에서 val/test 나눔\n",
    "X_val, X_test, y_val, y_test = train_test_split(\n",
    "    X_temp, y_temp, test_size=0.5, stratify=y_temp, random_state=42)"
   ]
  },
  {
   "cell_type": "code",
   "execution_count": 3,
   "id": "3c32733a",
   "metadata": {},
   "outputs": [
    {
     "name": "stdout",
     "output_type": "stream",
     "text": [
      "Train: 28131 samples\n",
      "Val  : 6028 samples\n",
      "Test : 6029 samples\n",
      "Train label distribution:\n",
      "  Class 0: 14065 (50.00%)\n",
      "  Class 1: 14066 (50.00%)\n",
      "\n",
      "Val label distribution:\n",
      "  Class 0: 3014 (50.00%)\n",
      "  Class 1: 3014 (50.00%)\n",
      "\n",
      "Test label distribution:\n",
      "  Class 0: 3015 (50.01%)\n",
      "  Class 1: 3014 (49.99%)\n",
      "\n"
     ]
    }
   ],
   "source": [
    "# 각 세트 크기 확인\n",
    "print(f\"Train: {len(y_train)} samples\")\n",
    "print(f\"Val  : {len(y_val)} samples\")\n",
    "print(f\"Test : {len(y_test)} samples\")\n",
    "\n",
    "# 클래스 분포 (0과 1의 개수)\n",
    "def print_label_counts(name, y):\n",
    "    labels, counts = np.unique(y, return_counts=True)\n",
    "    print(f\"{name} label distribution:\")\n",
    "    for l, c in zip(labels, counts):\n",
    "        print(f\"  Class {int(l)}: {c} ({c/len(y)*100:.2f}%)\")\n",
    "    print()\n",
    "\n",
    "print_label_counts(\"Train\", y_train)\n",
    "print_label_counts(\"Val\", y_val)\n",
    "print_label_counts(\"Test\", y_test)"
   ]
  },
  {
   "cell_type": "code",
   "execution_count": 4,
   "id": "585fcfbd",
   "metadata": {},
   "outputs": [],
   "source": [
    "# Dataset 정의\n",
    "class RNADataset(Dataset):\n",
    "    def __init__(self, X, y):\n",
    "        self.X = torch.tensor(X, dtype=torch.float32)\n",
    "        self.y = torch.tensor(y, dtype=torch.float32)\n",
    "    def __len__(self):\n",
    "        return len(self.y)\n",
    "    def __getitem__(self, idx):\n",
    "        return self.X[idx], self.y[idx]\n",
    "\n",
    "train_ds = RNADataset(X_train, y_train)\n",
    "val_ds = RNADataset(X_val, y_val)\n",
    "train_dl = DataLoader(train_ds, batch_size=64, shuffle=True)\n",
    "val_dl = DataLoader(val_ds, batch_size=64)\n",
    "\n",
    "# CNN 모델 정의\n",
    "class LIN28ACNN(nn.Module):\n",
    "    def __init__(self):\n",
    "        super().__init__()\n",
    "        self.conv1 = nn.Conv1d(7, 128, kernel_size=8)\n",
    "        self.conv2 = nn.Conv1d(128, 256, kernel_size=6)\n",
    "        self.pool = nn.AdaptiveMaxPool1d(1)\n",
    "        self.fc1 = nn.Linear(256, 128)\n",
    "        self.out = nn.Linear(128, 1)\n",
    "        self.dropout = nn.Dropout(0.5)\n",
    "\n",
    "    def forward(self, x):\n",
    "        x = x.permute(0, 2, 1)\n",
    "        x = torch.relu(self.conv1(x))\n",
    "        x = torch.relu(self.conv2(x))\n",
    "        x = self.pool(x).squeeze(-1)\n",
    "        x = self.dropout(torch.relu(self.fc1(x)))\n",
    "        return torch.sigmoid(self.out(x)).squeeze(-1)\n",
    "\n",
    "# 모델 + 학습 도구\n",
    "model = LIN28ACNN().to(device)\n",
    "loss_fn = nn.BCELoss()\n",
    "optimizer = torch.optim.Adam(model.parameters(), lr=1e-4)\n",
    "from torch.optim.lr_scheduler import ReduceLROnPlateau\n",
    "scheduler = ReduceLROnPlateau(optimizer, mode='max', factor=0.5, patience=2, verbose=True)\n"
   ]
  },
  {
   "cell_type": "code",
   "execution_count": 5,
   "id": "f553da7f",
   "metadata": {},
   "outputs": [
    {
     "name": "stdout",
     "output_type": "stream",
     "text": [
      "val set label 분포: (array([0., 1.], dtype=float32), array([3014, 3014]))\n"
     ]
    }
   ],
   "source": [
    "print(\"val set label 분포:\", np.unique(y_val, return_counts=True))"
   ]
  },
  {
   "cell_type": "code",
   "execution_count": 6,
   "id": "bfccc4a1",
   "metadata": {},
   "outputs": [
    {
     "name": "stdout",
     "output_type": "stream",
     "text": [
      "Epoch  1 | Loss: 0.5922 | Val AUROC: 0.8510\n",
      "✅ 모델 저장 (AUROC 개선됨)\n",
      "Epoch  2 | Loss: 0.4425 | Val AUROC: 0.8926\n",
      "✅ 모델 저장 (AUROC 개선됨)\n",
      "Epoch  3 | Loss: 0.3897 | Val AUROC: 0.9079\n",
      "✅ 모델 저장 (AUROC 개선됨)\n",
      "Epoch  4 | Loss: 0.3550 | Val AUROC: 0.9188\n",
      "✅ 모델 저장 (AUROC 개선됨)\n",
      "Epoch  5 | Loss: 0.3309 | Val AUROC: 0.9254\n",
      "✅ 모델 저장 (AUROC 개선됨)\n",
      "Epoch  6 | Loss: 0.3098 | Val AUROC: 0.9310\n",
      "✅ 모델 저장 (AUROC 개선됨)\n",
      "Epoch  7 | Loss: 0.2913 | Val AUROC: 0.9351\n",
      "✅ 모델 저장 (AUROC 개선됨)\n",
      "Epoch  8 | Loss: 0.2714 | Val AUROC: 0.9386\n",
      "✅ 모델 저장 (AUROC 개선됨)\n",
      "Epoch  9 | Loss: 0.2534 | Val AUROC: 0.9413\n",
      "✅ 모델 저장 (AUROC 개선됨)\n",
      "Epoch 10 | Loss: 0.2369 | Val AUROC: 0.9447\n",
      "✅ 모델 저장 (AUROC 개선됨)\n",
      "Epoch 11 | Loss: 0.2209 | Val AUROC: 0.9472\n",
      "✅ 모델 저장 (AUROC 개선됨)\n",
      "Epoch 12 | Loss: 0.2067 | Val AUROC: 0.9497\n",
      "✅ 모델 저장 (AUROC 개선됨)\n",
      "Epoch 13 | Loss: 0.1911 | Val AUROC: 0.9518\n",
      "✅ 모델 저장 (AUROC 개선됨)\n",
      "Epoch 14 | Loss: 0.1766 | Val AUROC: 0.9534\n",
      "✅ 모델 저장 (AUROC 개선됨)\n",
      "Epoch 15 | Loss: 0.1589 | Val AUROC: 0.9552\n",
      "✅ 모델 저장 (AUROC 개선됨)\n",
      "Epoch 16 | Loss: 0.1477 | Val AUROC: 0.9567\n",
      "✅ 모델 저장 (AUROC 개선됨)\n",
      "Epoch 17 | Loss: 0.1329 | Val AUROC: 0.9578\n",
      "✅ 모델 저장 (AUROC 개선됨)\n",
      "Epoch 18 | Loss: 0.1223 | Val AUROC: 0.9589\n",
      "✅ 모델 저장 (AUROC 개선됨)\n",
      "Epoch 19 | Loss: 0.1099 | Val AUROC: 0.9596\n",
      "✅ 모델 저장 (AUROC 개선됨)\n",
      "Epoch 20 | Loss: 0.0995 | Val AUROC: 0.9603\n",
      "✅ 모델 저장 (AUROC 개선됨)\n",
      "Epoch 21 | Loss: 0.0874 | Val AUROC: 0.9606\n",
      "✅ 모델 저장 (AUROC 개선됨)\n",
      "Epoch 22 | Loss: 0.0783 | Val AUROC: 0.9613\n",
      "✅ 모델 저장 (AUROC 개선됨)\n",
      "Epoch 23 | Loss: 0.0670 | Val AUROC: 0.9612\n",
      "Epoch 24 | Loss: 0.0573 | Val AUROC: 0.9625\n",
      "✅ 모델 저장 (AUROC 개선됨)\n",
      "Epoch 25 | Loss: 0.0537 | Val AUROC: 0.9626\n",
      "✅ 모델 저장 (AUROC 개선됨)\n",
      "Epoch 26 | Loss: 0.0425 | Val AUROC: 0.9623\n",
      "Epoch 27 | Loss: 0.0360 | Val AUROC: 0.9625\n",
      "Epoch 28 | Loss: 0.0313 | Val AUROC: 0.9628\n",
      "✅ 모델 저장 (AUROC 개선됨)\n",
      "Epoch 29 | Loss: 0.0279 | Val AUROC: 0.9629\n",
      "✅ 모델 저장 (AUROC 개선됨)\n",
      "Epoch 30 | Loss: 0.0239 | Val AUROC: 0.9632\n",
      "✅ 모델 저장 (AUROC 개선됨)\n",
      "Epoch 31 | Loss: 0.0205 | Val AUROC: 0.9630\n",
      "Epoch 32 | Loss: 0.0154 | Val AUROC: 0.9634\n",
      "✅ 모델 저장 (AUROC 개선됨)\n",
      "Epoch 33 | Loss: 0.0143 | Val AUROC: 0.9630\n",
      "Epoch 34 | Loss: 0.0120 | Val AUROC: 0.9634\n",
      "✅ 모델 저장 (AUROC 개선됨)\n",
      "Epoch 00035: reducing learning rate of group 0 to 5.0000e-05.\n",
      "Epoch 35 | Loss: 0.0095 | Val AUROC: 0.9630\n",
      "Epoch 36 | Loss: 0.0059 | Val AUROC: 0.9636\n",
      "✅ 모델 저장 (AUROC 개선됨)\n",
      "Epoch 37 | Loss: 0.0051 | Val AUROC: 0.9635\n",
      "Epoch 38 | Loss: 0.0042 | Val AUROC: 0.9635\n",
      "Epoch 00039: reducing learning rate of group 0 to 2.5000e-05.\n",
      "Epoch 39 | Loss: 0.0038 | Val AUROC: 0.9635\n",
      "Epoch 40 | Loss: 0.0032 | Val AUROC: 0.9636\n",
      "✅ 모델 저장 (AUROC 개선됨)\n",
      "Epoch 41 | Loss: 0.0030 | Val AUROC: 0.9637\n",
      "✅ 모델 저장 (AUROC 개선됨)\n",
      "Epoch 42 | Loss: 0.0031 | Val AUROC: 0.9640\n",
      "✅ 모델 저장 (AUROC 개선됨)\n",
      "Epoch 43 | Loss: 0.0027 | Val AUROC: 0.9637\n",
      "Epoch 44 | Loss: 0.0024 | Val AUROC: 0.9638\n",
      "Epoch 00045: reducing learning rate of group 0 to 1.2500e-05.\n",
      "Epoch 45 | Loss: 0.0023 | Val AUROC: 0.9639\n",
      "Epoch 46 | Loss: 0.0019 | Val AUROC: 0.9638\n",
      "Epoch 47 | Loss: 0.0018 | Val AUROC: 0.9639\n",
      "Epoch 00048: reducing learning rate of group 0 to 6.2500e-06.\n",
      "Epoch 48 | Loss: 0.0017 | Val AUROC: 0.9637\n",
      "Epoch 49 | Loss: 0.0015 | Val AUROC: 0.9637\n",
      "Epoch 50 | Loss: 0.0016 | Val AUROC: 0.9638\n"
     ]
    }
   ],
   "source": [
    "# 학습 루프\n",
    "train_losses = []\n",
    "val_aucs = []\n",
    "best_auc = 0\n",
    "\n",
    "for epoch in range(50):\n",
    "    model.train()\n",
    "    total_loss = 0\n",
    "    for xb, yb in train_dl:\n",
    "        xb, yb = xb.to(device), yb.to(device)\n",
    "        optimizer.zero_grad()\n",
    "        preds = model(xb)\n",
    "        loss = loss_fn(preds, yb)\n",
    "        loss.backward()\n",
    "        optimizer.step()\n",
    "        total_loss += loss.item()\n",
    "\n",
    "    avg_loss = total_loss / len(train_dl)\n",
    "    train_losses.append(avg_loss)\n",
    "\n",
    "    # 평가\n",
    "    model.eval()\n",
    "    val_preds, val_true = [], []\n",
    "    with torch.no_grad():\n",
    "        for xb, yb in val_dl:\n",
    "            xb, yb = xb.to(device), yb.to(device)\n",
    "            preds = model(xb)\n",
    "            val_preds.extend(preds.cpu().numpy())\n",
    "            val_true.extend(yb.cpu().numpy())\n",
    "\n",
    "    auc = roc_auc_score(val_true, val_preds)\n",
    "    val_aucs.append(auc)\n",
    "    scheduler.step(auc)\n",
    "\n",
    "    print(f\"Epoch {epoch+1:2d} | Loss: {avg_loss:.4f} | Val AUROC: {auc:.4f}\")\n",
    "\n",
    "    if auc > best_auc:\n",
    "        best_auc = auc\n",
    "        torch.save(model.state_dict(), \"../models/best_model.pt\")\n",
    "        print(\"✅ 모델 저장 (AUROC 개선됨)\")"
   ]
  },
  {
   "cell_type": "code",
   "execution_count": 7,
   "id": "a2ad2ee4",
   "metadata": {},
   "outputs": [
    {
     "data": {
      "image/png": "[encoded data removed]",
      "text/plain": [
       "<Figure size 720x288 with 2 Axes>"
      ]
     },
     "metadata": {
      "needs_background": "light"
     },
     "output_type": "display_data"
    }
   ],
   "source": [
    "import matplotlib.pyplot as plt\n",
    "\n",
    "plt.figure(figsize=(10, 4))\n",
    "plt.subplot(1, 2, 1)\n",
    "plt.plot(train_losses, label=\"Train Loss\")\n",
    "plt.title(\"Training Loss per Epoch\")\n",
    "plt.grid(True)\n",
    "\n",
    "plt.subplot(1, 2, 2)\n",
    "plt.plot(val_aucs, label=\"Validation AUROC\", color=\"orange\")\n",
    "plt.title(\"Validation AUROC per Epoch\")\n",
    "plt.grid(True)\n",
    "\n",
    "plt.tight_layout()\n",
    "plt.show()\n"
   ]
  },
  {
   "cell_type": "code",
   "execution_count": 8,
   "id": "bf694de6",
   "metadata": {},
   "outputs": [
    {
     "name": "stdout",
     "output_type": "stream",
     "text": [
      "✅ 저장 완료: val_metrics.csv\n"
     ]
    }
   ],
   "source": [
    "import pandas as pd\n",
    "import os\n",
    "\n",
    "# 저장할 결과 테이블 생성\n",
    "metrics_df = pd.DataFrame({\n",
    "    \"epoch\": list(range(1, len(train_losses) + 1)),\n",
    "    \"train_loss\": train_losses,\n",
    "    \"val_auc\": val_aucs\n",
    "})\n",
    "\n",
    "# 저장 디렉토리 생성 후 저장\n",
    "os.makedirs(\"../results/metrics\", exist_ok=True)\n",
    "metrics_df.to_csv(\"../results/metrics/val_metrics.csv\", index=False)\n",
    "print(\"✅ 저장 완료: val_metrics.csv\")"
   ]
  },
  {
   "cell_type": "markdown",
   "id": "11cf41f6",
   "metadata": {},
   "source": [
    "## 🧠 Step 4: LIN28A CNN 학습 (최종)\n",
    "\n",
    "이 모델은 RNA 서열 및 구조 정보를 기반으로 LIN28A binding site를 분류하기 위해 학습됩니다.\n",
    "\n",
    "### ✅ 구성\n",
    "- 입력: (51, 7) one-hot RNA window\n",
    "- 모델: 2-layer CNN + AdaptivePooling + FC\n",
    "- 손실함수: BCELoss\n",
    "- 평가 지표: AUROC\n",
    "- GPU 자동 적용 + 학습률 스케줄러 적용\n",
    "\n",
    "### ✅ 출력\n",
    "- `../models/best_model.pt` (Val AUROC 기준 최고 성능)\n"
   ]
  }
 ],
 "metadata": {
  "kernelspec": {
   "display_name": "xb",
   "language": "python",
   "name": "python3"
  },
  "language_info": {
   "codemirror_mode": {
    "name": "ipython",
    "version": 3
   },
   "file_extension": ".py",
   "mimetype": "text/x-python",
   "name": "python",
   "nbconvert_exporter": "python",
   "pygments_lexer": "ipython3",
   "version": "3.7.13"
  }
 },
 "nbformat": 4,
 "nbformat_minor": 5
}
